{
 "cells": [
  {
   "cell_type": "code",
   "execution_count": 1,
   "id": "7b6bbb31",
   "metadata": {
    "_cell_guid": "b1076dfc-b9ad-4769-8c92-a6c4dae69d19",
    "_uuid": "8f2839f25d086af736a60e9eeb907d3b93b6e0e5",
    "execution": {
     "iopub.execute_input": "2022-10-01T16:13:44.357549Z",
     "iopub.status.busy": "2022-10-01T16:13:44.356398Z",
     "iopub.status.idle": "2022-10-01T16:13:44.367243Z",
     "shell.execute_reply": "2022-10-01T16:13:44.366413Z"
    },
    "papermill": {
     "duration": 0.022016,
     "end_time": "2022-10-01T16:13:44.369559",
     "exception": false,
     "start_time": "2022-10-01T16:13:44.347543",
     "status": "completed"
    },
    "tags": []
   },
   "outputs": [],
   "source": [
    "import numpy as np \n",
    "import pandas as pd"
   ]
  },
  {
   "cell_type": "code",
   "execution_count": 2,
   "id": "3668ef41",
   "metadata": {
    "execution": {
     "iopub.execute_input": "2022-10-01T16:13:44.383099Z",
     "iopub.status.busy": "2022-10-01T16:13:44.382828Z",
     "iopub.status.idle": "2022-10-01T16:13:44.390787Z",
     "shell.execute_reply": "2022-10-01T16:13:44.389885Z"
    },
    "papermill": {
     "duration": 0.018057,
     "end_time": "2022-10-01T16:13:44.393945",
     "exception": false,
     "start_time": "2022-10-01T16:13:44.375888",
     "status": "completed"
    },
    "tags": []
   },
   "outputs": [
    {
     "name": "stdout",
     "output_type": "stream",
     "text": [
      "/kaggle/input/food-101\n"
     ]
    }
   ],
   "source": [
    "%cd /kaggle/input/food-101/"
   ]
  },
  {
   "cell_type": "code",
   "execution_count": 3,
   "id": "76cf483f",
   "metadata": {
    "execution": {
     "iopub.execute_input": "2022-10-01T16:13:44.408079Z",
     "iopub.status.busy": "2022-10-01T16:13:44.407817Z",
     "iopub.status.idle": "2022-10-01T16:13:45.452421Z",
     "shell.execute_reply": "2022-10-01T16:13:45.451188Z"
    },
    "papermill": {
     "duration": 1.054396,
     "end_time": "2022-10-01T16:13:45.455241",
     "exception": false,
     "start_time": "2022-10-01T16:13:44.400845",
     "status": "completed"
    },
    "tags": []
   },
   "outputs": [
    {
     "name": "stdout",
     "output_type": "stream",
     "text": [
      "apple_pie/1005649\r\n",
      "apple_pie/1014775\r\n",
      "apple_pie/1026328\r\n",
      "apple_pie/1028787\r\n",
      "apple_pie/1043283\r\n",
      "apple_pie/1050519\r\n",
      "apple_pie/1057749\r\n",
      "apple_pie/1057810\r\n",
      "apple_pie/1072416\r\n",
      "apple_pie/1074856\r\n"
     ]
    }
   ],
   "source": [
    "!head 'food-101/food-101/meta/train.txt'"
   ]
  },
  {
   "cell_type": "code",
   "execution_count": 4,
   "id": "1ad1ee5b",
   "metadata": {
    "execution": {
     "iopub.execute_input": "2022-10-01T16:13:45.478063Z",
     "iopub.status.busy": "2022-10-01T16:13:45.477584Z",
     "iopub.status.idle": "2022-10-01T16:13:45.582965Z",
     "shell.execute_reply": "2022-10-01T16:13:45.581927Z"
    },
    "papermill": {
     "duration": 0.119386,
     "end_time": "2022-10-01T16:13:45.585532",
     "exception": false,
     "start_time": "2022-10-01T16:13:45.466146",
     "status": "completed"
    },
    "tags": []
   },
   "outputs": [
    {
     "data": {
      "text/html": [
       "<div>\n",
       "<style scoped>\n",
       "    .dataframe tbody tr th:only-of-type {\n",
       "        vertical-align: middle;\n",
       "    }\n",
       "\n",
       "    .dataframe tbody tr th {\n",
       "        vertical-align: top;\n",
       "    }\n",
       "\n",
       "    .dataframe thead th {\n",
       "        text-align: right;\n",
       "    }\n",
       "</style>\n",
       "<table border=\"1\" class=\"dataframe\">\n",
       "  <thead>\n",
       "    <tr style=\"text-align: right;\">\n",
       "      <th></th>\n",
       "      <th>path</th>\n",
       "    </tr>\n",
       "  </thead>\n",
       "  <tbody>\n",
       "    <tr>\n",
       "      <th>0</th>\n",
       "      <td>apple_pie/1005649</td>\n",
       "    </tr>\n",
       "    <tr>\n",
       "      <th>1</th>\n",
       "      <td>apple_pie/1014775</td>\n",
       "    </tr>\n",
       "    <tr>\n",
       "      <th>2</th>\n",
       "      <td>apple_pie/1026328</td>\n",
       "    </tr>\n",
       "    <tr>\n",
       "      <th>3</th>\n",
       "      <td>apple_pie/1028787</td>\n",
       "    </tr>\n",
       "    <tr>\n",
       "      <th>4</th>\n",
       "      <td>apple_pie/1043283</td>\n",
       "    </tr>\n",
       "  </tbody>\n",
       "</table>\n",
       "</div>"
      ],
      "text/plain": [
       "                path\n",
       "0  apple_pie/1005649\n",
       "1  apple_pie/1014775\n",
       "2  apple_pie/1026328\n",
       "3  apple_pie/1028787\n",
       "4  apple_pie/1043283"
      ]
     },
     "execution_count": 4,
     "metadata": {},
     "output_type": "execute_result"
    }
   ],
   "source": [
    "train_df = pd.read_csv('food-101/food-101/meta/train.txt', header = None, names=['path'])\n",
    "train_df.head()"
   ]
  },
  {
   "cell_type": "code",
   "execution_count": 5,
   "id": "553ea94f",
   "metadata": {
    "execution": {
     "iopub.execute_input": "2022-10-01T16:13:45.605122Z",
     "iopub.status.busy": "2022-10-01T16:13:45.604831Z",
     "iopub.status.idle": "2022-10-01T16:13:45.610394Z",
     "shell.execute_reply": "2022-10-01T16:13:45.609524Z"
    },
    "papermill": {
     "duration": 0.015034,
     "end_time": "2022-10-01T16:13:45.612510",
     "exception": false,
     "start_time": "2022-10-01T16:13:45.597476",
     "status": "completed"
    },
    "tags": []
   },
   "outputs": [
    {
     "data": {
      "text/plain": [
       "75750"
      ]
     },
     "execution_count": 5,
     "metadata": {},
     "output_type": "execute_result"
    }
   ],
   "source": [
    "len(train_df)"
   ]
  },
  {
   "cell_type": "code",
   "execution_count": 6,
   "id": "3196d817",
   "metadata": {
    "execution": {
     "iopub.execute_input": "2022-10-01T16:13:45.627090Z",
     "iopub.status.busy": "2022-10-01T16:13:45.626272Z",
     "iopub.status.idle": "2022-10-01T16:13:45.660234Z",
     "shell.execute_reply": "2022-10-01T16:13:45.659414Z"
    },
    "papermill": {
     "duration": 0.043436,
     "end_time": "2022-10-01T16:13:45.662419",
     "exception": false,
     "start_time": "2022-10-01T16:13:45.618983",
     "status": "completed"
    },
    "tags": []
   },
   "outputs": [
    {
     "data": {
      "text/html": [
       "<div>\n",
       "<style scoped>\n",
       "    .dataframe tbody tr th:only-of-type {\n",
       "        vertical-align: middle;\n",
       "    }\n",
       "\n",
       "    .dataframe tbody tr th {\n",
       "        vertical-align: top;\n",
       "    }\n",
       "\n",
       "    .dataframe thead th {\n",
       "        text-align: right;\n",
       "    }\n",
       "</style>\n",
       "<table border=\"1\" class=\"dataframe\">\n",
       "  <thead>\n",
       "    <tr style=\"text-align: right;\">\n",
       "      <th></th>\n",
       "      <th>path</th>\n",
       "    </tr>\n",
       "  </thead>\n",
       "  <tbody>\n",
       "    <tr>\n",
       "      <th>0</th>\n",
       "      <td>apple_pie/1011328</td>\n",
       "    </tr>\n",
       "    <tr>\n",
       "      <th>1</th>\n",
       "      <td>apple_pie/101251</td>\n",
       "    </tr>\n",
       "    <tr>\n",
       "      <th>2</th>\n",
       "      <td>apple_pie/1034399</td>\n",
       "    </tr>\n",
       "    <tr>\n",
       "      <th>3</th>\n",
       "      <td>apple_pie/103801</td>\n",
       "    </tr>\n",
       "    <tr>\n",
       "      <th>4</th>\n",
       "      <td>apple_pie/1038694</td>\n",
       "    </tr>\n",
       "  </tbody>\n",
       "</table>\n",
       "</div>"
      ],
      "text/plain": [
       "                path\n",
       "0  apple_pie/1011328\n",
       "1   apple_pie/101251\n",
       "2  apple_pie/1034399\n",
       "3   apple_pie/103801\n",
       "4  apple_pie/1038694"
      ]
     },
     "execution_count": 6,
     "metadata": {},
     "output_type": "execute_result"
    }
   ],
   "source": [
    "test_df = pd.read_csv('food-101/food-101/meta/test.txt', header = None, names=['path'])\n",
    "test_df.head()"
   ]
  },
  {
   "cell_type": "code",
   "execution_count": 7,
   "id": "511a7ddf",
   "metadata": {
    "execution": {
     "iopub.execute_input": "2022-10-01T16:13:45.677529Z",
     "iopub.status.busy": "2022-10-01T16:13:45.677246Z",
     "iopub.status.idle": "2022-10-01T16:13:45.682142Z",
     "shell.execute_reply": "2022-10-01T16:13:45.681208Z"
    },
    "papermill": {
     "duration": 0.01452,
     "end_time": "2022-10-01T16:13:45.684079",
     "exception": false,
     "start_time": "2022-10-01T16:13:45.669559",
     "status": "completed"
    },
    "tags": []
   },
   "outputs": [],
   "source": [
    "def spliter(data, class_or_id='id'):\n",
    "    if class_or_id.upper() == 'CLASS':\n",
    "        output = data.split('/')[0]\n",
    "        \n",
    "    else:\n",
    "        output = data.split('/')[-1]\n",
    "    return output"
   ]
  },
  {
   "cell_type": "code",
   "execution_count": 8,
   "id": "3231f5f5",
   "metadata": {
    "execution": {
     "iopub.execute_input": "2022-10-01T16:13:45.699807Z",
     "iopub.status.busy": "2022-10-01T16:13:45.698989Z",
     "iopub.status.idle": "2022-10-01T16:13:45.751779Z",
     "shell.execute_reply": "2022-10-01T16:13:45.750695Z"
    },
    "papermill": {
     "duration": 0.062582,
     "end_time": "2022-10-01T16:13:45.754158",
     "exception": false,
     "start_time": "2022-10-01T16:13:45.691576",
     "status": "completed"
    },
    "tags": []
   },
   "outputs": [],
   "source": [
    "train_df['label'] = train_df['path'].map(lambda x: spliter(data = x, class_or_id = 'Class'))"
   ]
  },
  {
   "cell_type": "code",
   "execution_count": 9,
   "id": "7aaf14f1",
   "metadata": {
    "execution": {
     "iopub.execute_input": "2022-10-01T16:13:45.769373Z",
     "iopub.status.busy": "2022-10-01T16:13:45.769100Z",
     "iopub.status.idle": "2022-10-01T16:13:45.778619Z",
     "shell.execute_reply": "2022-10-01T16:13:45.777758Z"
    },
    "papermill": {
     "duration": 0.019277,
     "end_time": "2022-10-01T16:13:45.780642",
     "exception": false,
     "start_time": "2022-10-01T16:13:45.761365",
     "status": "completed"
    },
    "tags": []
   },
   "outputs": [
    {
     "data": {
      "text/html": [
       "<div>\n",
       "<style scoped>\n",
       "    .dataframe tbody tr th:only-of-type {\n",
       "        vertical-align: middle;\n",
       "    }\n",
       "\n",
       "    .dataframe tbody tr th {\n",
       "        vertical-align: top;\n",
       "    }\n",
       "\n",
       "    .dataframe thead th {\n",
       "        text-align: right;\n",
       "    }\n",
       "</style>\n",
       "<table border=\"1\" class=\"dataframe\">\n",
       "  <thead>\n",
       "    <tr style=\"text-align: right;\">\n",
       "      <th></th>\n",
       "      <th>path</th>\n",
       "      <th>label</th>\n",
       "    </tr>\n",
       "  </thead>\n",
       "  <tbody>\n",
       "    <tr>\n",
       "      <th>0</th>\n",
       "      <td>apple_pie/1005649</td>\n",
       "      <td>apple_pie</td>\n",
       "    </tr>\n",
       "    <tr>\n",
       "      <th>1</th>\n",
       "      <td>apple_pie/1014775</td>\n",
       "      <td>apple_pie</td>\n",
       "    </tr>\n",
       "    <tr>\n",
       "      <th>2</th>\n",
       "      <td>apple_pie/1026328</td>\n",
       "      <td>apple_pie</td>\n",
       "    </tr>\n",
       "    <tr>\n",
       "      <th>3</th>\n",
       "      <td>apple_pie/1028787</td>\n",
       "      <td>apple_pie</td>\n",
       "    </tr>\n",
       "    <tr>\n",
       "      <th>4</th>\n",
       "      <td>apple_pie/1043283</td>\n",
       "      <td>apple_pie</td>\n",
       "    </tr>\n",
       "  </tbody>\n",
       "</table>\n",
       "</div>"
      ],
      "text/plain": [
       "                path      label\n",
       "0  apple_pie/1005649  apple_pie\n",
       "1  apple_pie/1014775  apple_pie\n",
       "2  apple_pie/1026328  apple_pie\n",
       "3  apple_pie/1028787  apple_pie\n",
       "4  apple_pie/1043283  apple_pie"
      ]
     },
     "execution_count": 9,
     "metadata": {},
     "output_type": "execute_result"
    }
   ],
   "source": [
    "train_df.head()\n"
   ]
  },
  {
   "cell_type": "code",
   "execution_count": 10,
   "id": "912bf4a3",
   "metadata": {
    "execution": {
     "iopub.execute_input": "2022-10-01T16:13:45.795262Z",
     "iopub.status.busy": "2022-10-01T16:13:45.795004Z",
     "iopub.status.idle": "2022-10-01T16:13:45.843366Z",
     "shell.execute_reply": "2022-10-01T16:13:45.842486Z"
    },
    "papermill": {
     "duration": 0.058132,
     "end_time": "2022-10-01T16:13:45.845466",
     "exception": false,
     "start_time": "2022-10-01T16:13:45.787334",
     "status": "completed"
    },
    "tags": []
   },
   "outputs": [],
   "source": [
    "train_df['idx'] = train_df['path'].map(lambda x: spliter(x)) "
   ]
  },
  {
   "cell_type": "code",
   "execution_count": 11,
   "id": "7674ba82",
   "metadata": {
    "execution": {
     "iopub.execute_input": "2022-10-01T16:13:45.860567Z",
     "iopub.status.busy": "2022-10-01T16:13:45.860293Z",
     "iopub.status.idle": "2022-10-01T16:13:45.870253Z",
     "shell.execute_reply": "2022-10-01T16:13:45.869397Z"
    },
    "papermill": {
     "duration": 0.019479,
     "end_time": "2022-10-01T16:13:45.872142",
     "exception": false,
     "start_time": "2022-10-01T16:13:45.852663",
     "status": "completed"
    },
    "tags": []
   },
   "outputs": [
    {
     "data": {
      "text/html": [
       "<div>\n",
       "<style scoped>\n",
       "    .dataframe tbody tr th:only-of-type {\n",
       "        vertical-align: middle;\n",
       "    }\n",
       "\n",
       "    .dataframe tbody tr th {\n",
       "        vertical-align: top;\n",
       "    }\n",
       "\n",
       "    .dataframe thead th {\n",
       "        text-align: right;\n",
       "    }\n",
       "</style>\n",
       "<table border=\"1\" class=\"dataframe\">\n",
       "  <thead>\n",
       "    <tr style=\"text-align: right;\">\n",
       "      <th></th>\n",
       "      <th>path</th>\n",
       "      <th>label</th>\n",
       "      <th>idx</th>\n",
       "    </tr>\n",
       "  </thead>\n",
       "  <tbody>\n",
       "    <tr>\n",
       "      <th>0</th>\n",
       "      <td>apple_pie/1005649</td>\n",
       "      <td>apple_pie</td>\n",
       "      <td>1005649</td>\n",
       "    </tr>\n",
       "    <tr>\n",
       "      <th>1</th>\n",
       "      <td>apple_pie/1014775</td>\n",
       "      <td>apple_pie</td>\n",
       "      <td>1014775</td>\n",
       "    </tr>\n",
       "    <tr>\n",
       "      <th>2</th>\n",
       "      <td>apple_pie/1026328</td>\n",
       "      <td>apple_pie</td>\n",
       "      <td>1026328</td>\n",
       "    </tr>\n",
       "    <tr>\n",
       "      <th>3</th>\n",
       "      <td>apple_pie/1028787</td>\n",
       "      <td>apple_pie</td>\n",
       "      <td>1028787</td>\n",
       "    </tr>\n",
       "    <tr>\n",
       "      <th>4</th>\n",
       "      <td>apple_pie/1043283</td>\n",
       "      <td>apple_pie</td>\n",
       "      <td>1043283</td>\n",
       "    </tr>\n",
       "  </tbody>\n",
       "</table>\n",
       "</div>"
      ],
      "text/plain": [
       "                path      label      idx\n",
       "0  apple_pie/1005649  apple_pie  1005649\n",
       "1  apple_pie/1014775  apple_pie  1014775\n",
       "2  apple_pie/1026328  apple_pie  1026328\n",
       "3  apple_pie/1028787  apple_pie  1028787\n",
       "4  apple_pie/1043283  apple_pie  1043283"
      ]
     },
     "execution_count": 11,
     "metadata": {},
     "output_type": "execute_result"
    }
   ],
   "source": [
    "train_df.head()\n"
   ]
  },
  {
   "cell_type": "code",
   "execution_count": 12,
   "id": "7e75cef9",
   "metadata": {
    "execution": {
     "iopub.execute_input": "2022-10-01T16:13:45.888310Z",
     "iopub.status.busy": "2022-10-01T16:13:45.887450Z",
     "iopub.status.idle": "2022-10-01T16:13:45.923129Z",
     "shell.execute_reply": "2022-10-01T16:13:45.922291Z"
    },
    "papermill": {
     "duration": 0.046226,
     "end_time": "2022-10-01T16:13:45.925257",
     "exception": false,
     "start_time": "2022-10-01T16:13:45.879031",
     "status": "completed"
    },
    "tags": []
   },
   "outputs": [],
   "source": [
    "test_df['label'] = test_df['path'].map(lambda x: spliter(x, 'class')) \n",
    "test_df['idx'] = test_df['path'].map(lambda x: spliter(x)) "
   ]
  },
  {
   "cell_type": "code",
   "execution_count": 13,
   "id": "d3f66df2",
   "metadata": {
    "execution": {
     "iopub.execute_input": "2022-10-01T16:13:45.940900Z",
     "iopub.status.busy": "2022-10-01T16:13:45.940602Z",
     "iopub.status.idle": "2022-10-01T16:13:45.952158Z",
     "shell.execute_reply": "2022-10-01T16:13:45.951325Z"
    },
    "papermill": {
     "duration": 0.021734,
     "end_time": "2022-10-01T16:13:45.954198",
     "exception": false,
     "start_time": "2022-10-01T16:13:45.932464",
     "status": "completed"
    },
    "tags": []
   },
   "outputs": [
    {
     "data": {
      "text/html": [
       "<div>\n",
       "<style scoped>\n",
       "    .dataframe tbody tr th:only-of-type {\n",
       "        vertical-align: middle;\n",
       "    }\n",
       "\n",
       "    .dataframe tbody tr th {\n",
       "        vertical-align: top;\n",
       "    }\n",
       "\n",
       "    .dataframe thead th {\n",
       "        text-align: right;\n",
       "    }\n",
       "</style>\n",
       "<table border=\"1\" class=\"dataframe\">\n",
       "  <thead>\n",
       "    <tr style=\"text-align: right;\">\n",
       "      <th></th>\n",
       "      <th>path</th>\n",
       "      <th>label</th>\n",
       "      <th>idx</th>\n",
       "    </tr>\n",
       "  </thead>\n",
       "  <tbody>\n",
       "    <tr>\n",
       "      <th>0</th>\n",
       "      <td>apple_pie/1011328</td>\n",
       "      <td>apple_pie</td>\n",
       "      <td>1011328</td>\n",
       "    </tr>\n",
       "    <tr>\n",
       "      <th>1</th>\n",
       "      <td>apple_pie/101251</td>\n",
       "      <td>apple_pie</td>\n",
       "      <td>101251</td>\n",
       "    </tr>\n",
       "    <tr>\n",
       "      <th>2</th>\n",
       "      <td>apple_pie/1034399</td>\n",
       "      <td>apple_pie</td>\n",
       "      <td>1034399</td>\n",
       "    </tr>\n",
       "    <tr>\n",
       "      <th>3</th>\n",
       "      <td>apple_pie/103801</td>\n",
       "      <td>apple_pie</td>\n",
       "      <td>103801</td>\n",
       "    </tr>\n",
       "    <tr>\n",
       "      <th>4</th>\n",
       "      <td>apple_pie/1038694</td>\n",
       "      <td>apple_pie</td>\n",
       "      <td>1038694</td>\n",
       "    </tr>\n",
       "  </tbody>\n",
       "</table>\n",
       "</div>"
      ],
      "text/plain": [
       "                path      label      idx\n",
       "0  apple_pie/1011328  apple_pie  1011328\n",
       "1   apple_pie/101251  apple_pie   101251\n",
       "2  apple_pie/1034399  apple_pie  1034399\n",
       "3   apple_pie/103801  apple_pie   103801\n",
       "4  apple_pie/1038694  apple_pie  1038694"
      ]
     },
     "execution_count": 13,
     "metadata": {},
     "output_type": "execute_result"
    }
   ],
   "source": [
    "test_df.head()"
   ]
  },
  {
   "cell_type": "code",
   "execution_count": 14,
   "id": "7b0ff84c",
   "metadata": {
    "execution": {
     "iopub.execute_input": "2022-10-01T16:13:45.970704Z",
     "iopub.status.busy": "2022-10-01T16:13:45.969910Z",
     "iopub.status.idle": "2022-10-01T16:13:45.981339Z",
     "shell.execute_reply": "2022-10-01T16:13:45.980505Z"
    },
    "papermill": {
     "duration": 0.021728,
     "end_time": "2022-10-01T16:13:45.983349",
     "exception": false,
     "start_time": "2022-10-01T16:13:45.961621",
     "status": "completed"
    },
    "tags": []
   },
   "outputs": [],
   "source": [
    "mini_20 = train_df['label'].unique()[:20]\n"
   ]
  },
  {
   "cell_type": "code",
   "execution_count": 15,
   "id": "36eb07cf",
   "metadata": {
    "execution": {
     "iopub.execute_input": "2022-10-01T16:13:45.999666Z",
     "iopub.status.busy": "2022-10-01T16:13:45.998815Z",
     "iopub.status.idle": "2022-10-01T16:13:46.005167Z",
     "shell.execute_reply": "2022-10-01T16:13:46.004230Z"
    },
    "papermill": {
     "duration": 0.016575,
     "end_time": "2022-10-01T16:13:46.007127",
     "exception": false,
     "start_time": "2022-10-01T16:13:45.990552",
     "status": "completed"
    },
    "tags": []
   },
   "outputs": [
    {
     "data": {
      "text/plain": [
       "array(['apple_pie', 'baby_back_ribs', 'baklava', 'beef_carpaccio',\n",
       "       'beef_tartare', 'beet_salad', 'beignets', 'bibimbap',\n",
       "       'bread_pudding', 'breakfast_burrito', 'bruschetta', 'caesar_salad',\n",
       "       'cannoli', 'caprese_salad', 'carrot_cake', 'ceviche', 'cheesecake',\n",
       "       'cheese_plate', 'chicken_curry', 'chicken_quesadilla'],\n",
       "      dtype=object)"
      ]
     },
     "execution_count": 15,
     "metadata": {},
     "output_type": "execute_result"
    }
   ],
   "source": [
    "mini_20 \n"
   ]
  },
  {
   "cell_type": "code",
   "execution_count": 16,
   "id": "1b39acaa",
   "metadata": {
    "execution": {
     "iopub.execute_input": "2022-10-01T16:13:46.022941Z",
     "iopub.status.busy": "2022-10-01T16:13:46.022149Z",
     "iopub.status.idle": "2022-10-01T16:13:46.026841Z",
     "shell.execute_reply": "2022-10-01T16:13:46.026029Z"
    },
    "papermill": {
     "duration": 0.014459,
     "end_time": "2022-10-01T16:13:46.028710",
     "exception": false,
     "start_time": "2022-10-01T16:13:46.014251",
     "status": "completed"
    },
    "tags": []
   },
   "outputs": [],
   "source": [
    "list_ = []\n",
    "for l in mini_20:\n",
    "    list_.append(l.upper())"
   ]
  },
  {
   "cell_type": "code",
   "execution_count": 17,
   "id": "0e377638",
   "metadata": {
    "execution": {
     "iopub.execute_input": "2022-10-01T16:13:46.044758Z",
     "iopub.status.busy": "2022-10-01T16:13:46.043953Z",
     "iopub.status.idle": "2022-10-01T16:13:46.048597Z",
     "shell.execute_reply": "2022-10-01T16:13:46.047771Z"
    },
    "papermill": {
     "duration": 0.014517,
     "end_time": "2022-10-01T16:13:46.050599",
     "exception": false,
     "start_time": "2022-10-01T16:13:46.036082",
     "status": "completed"
    },
    "tags": []
   },
   "outputs": [],
   "source": [
    "mini_20 = [f.upper() for f in mini_20]\n"
   ]
  },
  {
   "cell_type": "code",
   "execution_count": 18,
   "id": "9465da7d",
   "metadata": {
    "execution": {
     "iopub.execute_input": "2022-10-01T16:13:46.066533Z",
     "iopub.status.busy": "2022-10-01T16:13:46.065756Z",
     "iopub.status.idle": "2022-10-01T16:13:46.070368Z",
     "shell.execute_reply": "2022-10-01T16:13:46.069581Z"
    },
    "papermill": {
     "duration": 0.01444,
     "end_time": "2022-10-01T16:13:46.072275",
     "exception": false,
     "start_time": "2022-10-01T16:13:46.057835",
     "status": "completed"
    },
    "tags": []
   },
   "outputs": [],
   "source": [
    "def prepare_data(label):\n",
    "    if label.upper() in mini_20:\n",
    "        return label\n",
    "    else:\n",
    "        return 'big_class'"
   ]
  },
  {
   "cell_type": "code",
   "execution_count": 19,
   "id": "402319c2",
   "metadata": {
    "execution": {
     "iopub.execute_input": "2022-10-01T16:13:46.087919Z",
     "iopub.status.busy": "2022-10-01T16:13:46.087199Z",
     "iopub.status.idle": "2022-10-01T16:13:46.151303Z",
     "shell.execute_reply": "2022-10-01T16:13:46.150396Z"
    },
    "papermill": {
     "duration": 0.074271,
     "end_time": "2022-10-01T16:13:46.153622",
     "exception": false,
     "start_time": "2022-10-01T16:13:46.079351",
     "status": "completed"
    },
    "tags": []
   },
   "outputs": [],
   "source": [
    "train_df['label'] = train_df['label'].map(lambda x: prepare_data(x))\n",
    "test_df['label'] = test_df['label'].map(lambda x: prepare_data(x))"
   ]
  },
  {
   "cell_type": "code",
   "execution_count": 20,
   "id": "728c0346",
   "metadata": {
    "execution": {
     "iopub.execute_input": "2022-10-01T16:13:46.169329Z",
     "iopub.status.busy": "2022-10-01T16:13:46.169041Z",
     "iopub.status.idle": "2022-10-01T16:13:46.180274Z",
     "shell.execute_reply": "2022-10-01T16:13:46.179273Z"
    },
    "papermill": {
     "duration": 0.02137,
     "end_time": "2022-10-01T16:13:46.182393",
     "exception": false,
     "start_time": "2022-10-01T16:13:46.161023",
     "status": "completed"
    },
    "tags": []
   },
   "outputs": [
    {
     "data": {
      "text/plain": [
       "array(['apple_pie', 'baby_back_ribs', 'baklava', 'beef_carpaccio',\n",
       "       'beef_tartare', 'beet_salad', 'beignets', 'bibimbap',\n",
       "       'bread_pudding', 'breakfast_burrito', 'bruschetta', 'caesar_salad',\n",
       "       'cannoli', 'caprese_salad', 'carrot_cake', 'ceviche', 'cheesecake',\n",
       "       'cheese_plate', 'chicken_curry', 'chicken_quesadilla', 'big_class'],\n",
       "      dtype=object)"
      ]
     },
     "execution_count": 20,
     "metadata": {},
     "output_type": "execute_result"
    }
   ],
   "source": [
    "train_df['label'].unique()\n"
   ]
  },
  {
   "cell_type": "code",
   "execution_count": 21,
   "id": "5820bc85",
   "metadata": {
    "execution": {
     "iopub.execute_input": "2022-10-01T16:13:46.198320Z",
     "iopub.status.busy": "2022-10-01T16:13:46.198063Z",
     "iopub.status.idle": "2022-10-01T16:13:46.202305Z",
     "shell.execute_reply": "2022-10-01T16:13:46.201222Z"
    },
    "papermill": {
     "duration": 0.014999,
     "end_time": "2022-10-01T16:13:46.204613",
     "exception": false,
     "start_time": "2022-10-01T16:13:46.189614",
     "status": "completed"
    },
    "tags": []
   },
   "outputs": [],
   "source": [
    "def add_exact_path(path):\n",
    "    return 'food-101/food-101/images/'+path+'.jpg'"
   ]
  },
  {
   "cell_type": "code",
   "execution_count": 22,
   "id": "d0e4913e",
   "metadata": {
    "execution": {
     "iopub.execute_input": "2022-10-01T16:13:46.220625Z",
     "iopub.status.busy": "2022-10-01T16:13:46.219856Z",
     "iopub.status.idle": "2022-10-01T16:14:08.590793Z",
     "shell.execute_reply": "2022-10-01T16:14:08.589767Z"
    },
    "papermill": {
     "duration": 22.382238,
     "end_time": "2022-10-01T16:14:08.593984",
     "exception": false,
     "start_time": "2022-10-01T16:13:46.211746",
     "status": "completed"
    },
    "tags": []
   },
   "outputs": [],
   "source": [
    "train_df['path'] = train_df[['path']].apply(add_exact_path, axis=1)\n",
    "test_df['path'] = test_df[['path']].apply(add_exact_path, axis=1)"
   ]
  },
  {
   "cell_type": "code",
   "execution_count": 23,
   "id": "29984da8",
   "metadata": {
    "execution": {
     "iopub.execute_input": "2022-10-01T16:14:08.617644Z",
     "iopub.status.busy": "2022-10-01T16:14:08.617264Z",
     "iopub.status.idle": "2022-10-01T16:14:08.632447Z",
     "shell.execute_reply": "2022-10-01T16:14:08.631626Z"
    },
    "papermill": {
     "duration": 0.029374,
     "end_time": "2022-10-01T16:14:08.635037",
     "exception": false,
     "start_time": "2022-10-01T16:14:08.605663",
     "status": "completed"
    },
    "tags": []
   },
   "outputs": [
    {
     "data": {
      "text/html": [
       "<div>\n",
       "<style scoped>\n",
       "    .dataframe tbody tr th:only-of-type {\n",
       "        vertical-align: middle;\n",
       "    }\n",
       "\n",
       "    .dataframe tbody tr th {\n",
       "        vertical-align: top;\n",
       "    }\n",
       "\n",
       "    .dataframe thead th {\n",
       "        text-align: right;\n",
       "    }\n",
       "</style>\n",
       "<table border=\"1\" class=\"dataframe\">\n",
       "  <thead>\n",
       "    <tr style=\"text-align: right;\">\n",
       "      <th></th>\n",
       "      <th>path</th>\n",
       "      <th>label</th>\n",
       "      <th>idx</th>\n",
       "    </tr>\n",
       "  </thead>\n",
       "  <tbody>\n",
       "    <tr>\n",
       "      <th>0</th>\n",
       "      <td>food-101/food-101/images/apple_pie/1005649.jpg</td>\n",
       "      <td>apple_pie</td>\n",
       "      <td>1005649</td>\n",
       "    </tr>\n",
       "    <tr>\n",
       "      <th>1</th>\n",
       "      <td>food-101/food-101/images/apple_pie/1014775.jpg</td>\n",
       "      <td>apple_pie</td>\n",
       "      <td>1014775</td>\n",
       "    </tr>\n",
       "    <tr>\n",
       "      <th>2</th>\n",
       "      <td>food-101/food-101/images/apple_pie/1026328.jpg</td>\n",
       "      <td>apple_pie</td>\n",
       "      <td>1026328</td>\n",
       "    </tr>\n",
       "    <tr>\n",
       "      <th>3</th>\n",
       "      <td>food-101/food-101/images/apple_pie/1028787.jpg</td>\n",
       "      <td>apple_pie</td>\n",
       "      <td>1028787</td>\n",
       "    </tr>\n",
       "    <tr>\n",
       "      <th>4</th>\n",
       "      <td>food-101/food-101/images/apple_pie/1043283.jpg</td>\n",
       "      <td>apple_pie</td>\n",
       "      <td>1043283</td>\n",
       "    </tr>\n",
       "  </tbody>\n",
       "</table>\n",
       "</div>"
      ],
      "text/plain": [
       "                                             path      label      idx\n",
       "0  food-101/food-101/images/apple_pie/1005649.jpg  apple_pie  1005649\n",
       "1  food-101/food-101/images/apple_pie/1014775.jpg  apple_pie  1014775\n",
       "2  food-101/food-101/images/apple_pie/1026328.jpg  apple_pie  1026328\n",
       "3  food-101/food-101/images/apple_pie/1028787.jpg  apple_pie  1028787\n",
       "4  food-101/food-101/images/apple_pie/1043283.jpg  apple_pie  1043283"
      ]
     },
     "execution_count": 23,
     "metadata": {},
     "output_type": "execute_result"
    }
   ],
   "source": [
    "train_df.head()\n"
   ]
  },
  {
   "cell_type": "code",
   "execution_count": 24,
   "id": "48ba821c",
   "metadata": {
    "execution": {
     "iopub.execute_input": "2022-10-01T16:14:08.657228Z",
     "iopub.status.busy": "2022-10-01T16:14:08.656899Z",
     "iopub.status.idle": "2022-10-01T16:14:08.708443Z",
     "shell.execute_reply": "2022-10-01T16:14:08.707468Z"
    },
    "papermill": {
     "duration": 0.066295,
     "end_time": "2022-10-01T16:14:08.711528",
     "exception": false,
     "start_time": "2022-10-01T16:14:08.645233",
     "status": "completed"
    },
    "tags": []
   },
   "outputs": [],
   "source": [
    "from matplotlib import pyplot as plt\n",
    "img = plt.imread(test_df['path'].iloc[0])\n",
    "# plt.imshow(img)\n",
    "img = img/255."
   ]
  },
  {
   "cell_type": "code",
   "execution_count": 25,
   "id": "bd8e4498",
   "metadata": {
    "execution": {
     "iopub.execute_input": "2022-10-01T16:14:08.735453Z",
     "iopub.status.busy": "2022-10-01T16:14:08.735086Z",
     "iopub.status.idle": "2022-10-01T16:14:08.746246Z",
     "shell.execute_reply": "2022-10-01T16:14:08.745243Z"
    },
    "papermill": {
     "duration": 0.025623,
     "end_time": "2022-10-01T16:14:08.748855",
     "exception": false,
     "start_time": "2022-10-01T16:14:08.723232",
     "status": "completed"
    },
    "tags": []
   },
   "outputs": [
    {
     "data": {
      "text/plain": [
       "path     food-101/food-101/images/apple_pie/1005649.jpg\n",
       "label                                         apple_pie\n",
       "idx                                             1005649\n",
       "Name: 0, dtype: object"
      ]
     },
     "execution_count": 25,
     "metadata": {},
     "output_type": "execute_result"
    }
   ],
   "source": [
    "train_df.iloc[0]\n"
   ]
  },
  {
   "cell_type": "code",
   "execution_count": 26,
   "id": "c5c41b06",
   "metadata": {
    "execution": {
     "iopub.execute_input": "2022-10-01T16:14:08.774333Z",
     "iopub.status.busy": "2022-10-01T16:14:08.773979Z",
     "iopub.status.idle": "2022-10-01T16:14:14.272969Z",
     "shell.execute_reply": "2022-10-01T16:14:14.271994Z"
    },
    "papermill": {
     "duration": 5.514003,
     "end_time": "2022-10-01T16:14:14.275800",
     "exception": false,
     "start_time": "2022-10-01T16:14:08.761797",
     "status": "completed"
    },
    "tags": []
   },
   "outputs": [],
   "source": [
    "from tensorflow.keras.preprocessing.image import ImageDataGenerator\n",
    "datagen = ImageDataGenerator(rescale=1./255,\n",
    "        shear_range=0.2,\n",
    "        zoom_range=0.2,\n",
    "        horizontal_flip=True\n",
    "    )\n",
    "test_gen = ImageDataGenerator(rescale=1./255)"
   ]
  },
  {
   "cell_type": "code",
   "execution_count": 27,
   "id": "b944d992",
   "metadata": {
    "execution": {
     "iopub.execute_input": "2022-10-01T16:14:14.293510Z",
     "iopub.status.busy": "2022-10-01T16:14:14.292998Z",
     "iopub.status.idle": "2022-10-01T16:18:04.230619Z",
     "shell.execute_reply": "2022-10-01T16:18:04.229617Z"
    },
    "papermill": {
     "duration": 229.956834,
     "end_time": "2022-10-01T16:18:04.240690",
     "exception": false,
     "start_time": "2022-10-01T16:14:14.283856",
     "status": "completed"
    },
    "tags": []
   },
   "outputs": [
    {
     "name": "stdout",
     "output_type": "stream",
     "text": [
      "Found 75750 validated image filenames belonging to 21 classes.\n"
     ]
    }
   ],
   "source": [
    "train_gen = datagen.flow_from_dataframe(dataframe = train_df, directory=None, x_col='path', y_col='label',\n",
    "    weight_col=None, target_size=(256, 256), color_mode='rgb', #subset='training',\n",
    "    classes=None, class_mode='categorical', batch_size=64, shuffle=True)\n",
    "# val_gen = datagen.flow_from_dataframe(dataframe = train_df, directory=None, x_col='path', y_col='label',\n",
    "#     weight_col=None, target_size=(256, 256), color_mode='rgb', subset='validation',\n",
    "#     classes=None, class_mode='categorical', batch_size=32, shuffle=True)"
   ]
  },
  {
   "cell_type": "code",
   "execution_count": 28,
   "id": "5d91bbf5",
   "metadata": {
    "execution": {
     "iopub.execute_input": "2022-10-01T16:18:04.257169Z",
     "iopub.status.busy": "2022-10-01T16:18:04.256566Z",
     "iopub.status.idle": "2022-10-01T16:19:16.301841Z",
     "shell.execute_reply": "2022-10-01T16:19:16.300858Z"
    },
    "papermill": {
     "duration": 72.063785,
     "end_time": "2022-10-01T16:19:16.311974",
     "exception": false,
     "start_time": "2022-10-01T16:18:04.248189",
     "status": "completed"
    },
    "tags": []
   },
   "outputs": [
    {
     "name": "stdout",
     "output_type": "stream",
     "text": [
      "Found 25250 validated image filenames belonging to 21 classes.\n"
     ]
    }
   ],
   "source": [
    "test_gen = test_gen.flow_from_dataframe(dataframe = test_df, directory=None, x_col='path', y_col='label',\n",
    "    weight_col=None, target_size=(256, 256), color_mode='rgb',\n",
    "    classes=None, class_mode='categorical', batch_size=64, shuffle=True)"
   ]
  },
  {
   "cell_type": "code",
   "execution_count": 29,
   "id": "2b14f165",
   "metadata": {
    "execution": {
     "iopub.execute_input": "2022-10-01T16:19:16.329217Z",
     "iopub.status.busy": "2022-10-01T16:19:16.328913Z",
     "iopub.status.idle": "2022-10-01T16:19:16.340042Z",
     "shell.execute_reply": "2022-10-01T16:19:16.339133Z"
    },
    "papermill": {
     "duration": 0.022239,
     "end_time": "2022-10-01T16:19:16.342118",
     "exception": false,
     "start_time": "2022-10-01T16:19:16.319879",
     "status": "completed"
    },
    "tags": []
   },
   "outputs": [],
   "source": [
    "import tensorflow as tf\n",
    "import tensorflow.keras.backend as K\n",
    "from tensorflow.keras import regularizers\n",
    "from tensorflow.keras.applications import efficientnet\n",
    "from tensorflow.keras.applications.inception_v3 import InceptionV3\n",
    "from tensorflow.keras.applications.inception_resnet_v2 import InceptionResNetV2\n",
    "from tensorflow.keras.models import Sequential, Model\n",
    "from tensorflow.keras.layers import Dense, Dropout, Activation, Flatten\n",
    "from tensorflow.keras.layers import Convolution2D, MaxPooling2D, ZeroPadding2D, GlobalAveragePooling2D, AveragePooling2D\n",
    "from tensorflow.keras.preprocessing.image import ImageDataGenerator\n",
    "from tensorflow.keras.callbacks import ModelCheckpoint, CSVLogger\n",
    "from tensorflow.keras.optimizers import SGD, Adam\n",
    "from tensorflow.keras.regularizers import l2\n",
    "from tensorflow.keras.applications.xception import Xception"
   ]
  },
  {
   "cell_type": "code",
   "execution_count": 30,
   "id": "88f9a548",
   "metadata": {
    "execution": {
     "iopub.execute_input": "2022-10-01T16:19:16.359247Z",
     "iopub.status.busy": "2022-10-01T16:19:16.358935Z",
     "iopub.status.idle": "2022-10-01T16:19:21.031073Z",
     "shell.execute_reply": "2022-10-01T16:19:21.029917Z"
    },
    "papermill": {
     "duration": 4.683472,
     "end_time": "2022-10-01T16:19:21.033416",
     "exception": false,
     "start_time": "2022-10-01T16:19:16.349944",
     "status": "completed"
    },
    "tags": []
   },
   "outputs": [
    {
     "name": "stderr",
     "output_type": "stream",
     "text": [
      "2022-10-01 16:19:16.483795: I tensorflow/stream_executor/cuda/cuda_gpu_executor.cc:937] successful NUMA node read from SysFS had negative value (-1), but there must be at least one NUMA node, so returning NUMA node zero\n",
      "2022-10-01 16:19:16.586782: I tensorflow/stream_executor/cuda/cuda_gpu_executor.cc:937] successful NUMA node read from SysFS had negative value (-1), but there must be at least one NUMA node, so returning NUMA node zero\n",
      "2022-10-01 16:19:16.587522: I tensorflow/stream_executor/cuda/cuda_gpu_executor.cc:937] successful NUMA node read from SysFS had negative value (-1), but there must be at least one NUMA node, so returning NUMA node zero\n",
      "2022-10-01 16:19:16.589875: I tensorflow/core/platform/cpu_feature_guard.cc:142] This TensorFlow binary is optimized with oneAPI Deep Neural Network Library (oneDNN) to use the following CPU instructions in performance-critical operations:  AVX2 AVX512F FMA\n",
      "To enable them in other operations, rebuild TensorFlow with the appropriate compiler flags.\n",
      "2022-10-01 16:19:16.590271: I tensorflow/stream_executor/cuda/cuda_gpu_executor.cc:937] successful NUMA node read from SysFS had negative value (-1), but there must be at least one NUMA node, so returning NUMA node zero\n",
      "2022-10-01 16:19:16.591357: I tensorflow/stream_executor/cuda/cuda_gpu_executor.cc:937] successful NUMA node read from SysFS had negative value (-1), but there must be at least one NUMA node, so returning NUMA node zero\n",
      "2022-10-01 16:19:16.592406: I tensorflow/stream_executor/cuda/cuda_gpu_executor.cc:937] successful NUMA node read from SysFS had negative value (-1), but there must be at least one NUMA node, so returning NUMA node zero\n",
      "2022-10-01 16:19:19.128501: I tensorflow/stream_executor/cuda/cuda_gpu_executor.cc:937] successful NUMA node read from SysFS had negative value (-1), but there must be at least one NUMA node, so returning NUMA node zero\n",
      "2022-10-01 16:19:19.129452: I tensorflow/stream_executor/cuda/cuda_gpu_executor.cc:937] successful NUMA node read from SysFS had negative value (-1), but there must be at least one NUMA node, so returning NUMA node zero\n",
      "2022-10-01 16:19:19.130179: I tensorflow/stream_executor/cuda/cuda_gpu_executor.cc:937] successful NUMA node read from SysFS had negative value (-1), but there must be at least one NUMA node, so returning NUMA node zero\n",
      "2022-10-01 16:19:19.130797: I tensorflow/core/common_runtime/gpu/gpu_device.cc:1510] Created device /job:localhost/replica:0/task:0/device:GPU:0 with 15401 MB memory:  -> device: 0, name: Tesla P100-PCIE-16GB, pci bus id: 0000:00:04.0, compute capability: 6.0\n"
     ]
    },
    {
     "name": "stdout",
     "output_type": "stream",
     "text": [
      "Downloading data from https://storage.googleapis.com/tensorflow/keras-applications/xception/xception_weights_tf_dim_ordering_tf_kernels_notop.h5\n",
      "83689472/83683744 [==============================] - 0s 0us/step\n",
      "83697664/83683744 [==============================] - 0s 0us/step\n"
     ]
    },
    {
     "name": "stderr",
     "output_type": "stream",
     "text": [
      "/opt/conda/lib/python3.7/site-packages/keras/optimizer_v2/optimizer_v2.py:356: UserWarning: The `lr` argument is deprecated, use `learning_rate` instead.\n",
      "  \"The `lr` argument is deprecated, use `learning_rate` instead.\")\n"
     ]
    }
   ],
   "source": [
    "inception = Xception(weights='imagenet', include_top=False)\n",
    "x = inception.output\n",
    "x = GlobalAveragePooling2D()(x)\n",
    "x = Dense(256,activation='relu')(x)\n",
    "# x = Dropout(0.4)(x)\n",
    "x = Dense(128,activation='relu')(x)\n",
    "x = Dropout(0.2)(x)\n",
    "\n",
    "predictions = Dense(21, activation='softmax')(x)\n",
    "\n",
    "model = Model(inputs=inception.input, outputs=predictions)\n",
    "model.compile(optimizer=Adam(lr=0.0001), loss='categorical_crossentropy', metrics=['accuracy'])"
   ]
  },
  {
   "cell_type": "code",
   "execution_count": 31,
   "id": "b91cf591",
   "metadata": {
    "execution": {
     "iopub.execute_input": "2022-10-01T16:19:21.051682Z",
     "iopub.status.busy": "2022-10-01T16:19:21.051389Z",
     "iopub.status.idle": "2022-10-01T17:38:39.662572Z",
     "shell.execute_reply": "2022-10-01T17:38:39.661558Z"
    },
    "papermill": {
     "duration": 4758.622835,
     "end_time": "2022-10-01T17:38:39.665048",
     "exception": false,
     "start_time": "2022-10-01T16:19:21.042213",
     "status": "completed"
    },
    "tags": []
   },
   "outputs": [
    {
     "name": "stderr",
     "output_type": "stream",
     "text": [
      "/opt/conda/lib/python3.7/site-packages/keras/engine/training.py:1972: UserWarning: `Model.fit_generator` is deprecated and will be removed in a future version. Please use `Model.fit`, which supports generators.\n",
      "  warnings.warn('`Model.fit_generator` is deprecated and '\n",
      "2022-10-01 16:19:22.728458: I tensorflow/compiler/mlir/mlir_graph_optimization_pass.cc:185] None of the MLIR Optimization Passes are enabled (registered 2)\n"
     ]
    },
    {
     "name": "stdout",
     "output_type": "stream",
     "text": [
      "Epoch 1/100\n"
     ]
    },
    {
     "name": "stderr",
     "output_type": "stream",
     "text": [
      "2022-10-01 16:19:29.559319: I tensorflow/stream_executor/cuda/cuda_dnn.cc:369] Loaded cuDNN version 8005\n"
     ]
    },
    {
     "name": "stdout",
     "output_type": "stream",
     "text": [
      "18/18 [==============================] - 45s 2s/step - loss: 2.3014 - accuracy: 0.5885\n",
      "Epoch 2/100\n",
      "18/18 [==============================] - 34s 2s/step - loss: 1.0893 - accuracy: 0.8247\n",
      "Epoch 3/100\n",
      "18/18 [==============================] - 34s 2s/step - loss: 1.0964 - accuracy: 0.8073\n",
      "Epoch 4/100\n",
      "18/18 [==============================] - 34s 2s/step - loss: 1.1668 - accuracy: 0.7786\n",
      "Epoch 5/100\n",
      "18/18 [==============================] - 34s 2s/step - loss: 1.1211 - accuracy: 0.7752\n",
      "Epoch 6/100\n",
      "18/18 [==============================] - 35s 2s/step - loss: 0.9965 - accuracy: 0.8073\n",
      "Epoch 7/100\n",
      "18/18 [==============================] - 35s 2s/step - loss: 0.9264 - accuracy: 0.8151\n",
      "Epoch 8/100\n",
      "18/18 [==============================] - 33s 2s/step - loss: 0.9465 - accuracy: 0.8056\n",
      "Epoch 9/100\n",
      "18/18 [==============================] - 33s 2s/step - loss: 0.8889 - accuracy: 0.8194\n",
      "Epoch 10/100\n",
      "18/18 [==============================] - 34s 2s/step - loss: 0.9352 - accuracy: 0.7986\n",
      "Epoch 11/100\n",
      "18/18 [==============================] - 34s 2s/step - loss: 0.8928 - accuracy: 0.8030\n",
      "Epoch 12/100\n",
      "18/18 [==============================] - 35s 2s/step - loss: 0.8849 - accuracy: 0.8047\n",
      "Epoch 13/100\n",
      "18/18 [==============================] - 34s 2s/step - loss: 0.8162 - accuracy: 0.8203\n",
      "Epoch 14/100\n",
      "18/18 [==============================] - 34s 2s/step - loss: 0.8380 - accuracy: 0.8073\n",
      "Epoch 15/100\n",
      "18/18 [==============================] - 33s 2s/step - loss: 0.7720 - accuracy: 0.8186\n",
      "Epoch 16/100\n",
      "18/18 [==============================] - 33s 2s/step - loss: 0.7569 - accuracy: 0.8168\n",
      "Epoch 17/100\n",
      "18/18 [==============================] - 32s 2s/step - loss: 0.6323 - accuracy: 0.8490\n",
      "Epoch 18/100\n",
      "18/18 [==============================] - 33s 2s/step - loss: 0.6903 - accuracy: 0.8359\n",
      "Epoch 19/100\n",
      "18/18 [==============================] - 33s 2s/step - loss: 0.7100 - accuracy: 0.8203\n",
      "Epoch 20/100\n",
      "18/18 [==============================] - 33s 2s/step - loss: 0.6989 - accuracy: 0.8264\n",
      "Epoch 21/100\n",
      "18/18 [==============================] - 32s 2s/step - loss: 0.6182 - accuracy: 0.8333\n",
      "Epoch 22/100\n",
      "18/18 [==============================] - 32s 2s/step - loss: 0.6988 - accuracy: 0.8160\n",
      "Epoch 23/100\n",
      "18/18 [==============================] - 32s 2s/step - loss: 0.5565 - accuracy: 0.8550\n",
      "Epoch 24/100\n",
      "18/18 [==============================] - 32s 2s/step - loss: 0.6350 - accuracy: 0.8333\n",
      "Epoch 25/100\n",
      "18/18 [==============================] - 32s 2s/step - loss: 0.5802 - accuracy: 0.8507\n",
      "Epoch 26/100\n",
      "18/18 [==============================] - 32s 2s/step - loss: 0.6164 - accuracy: 0.8481\n",
      "Epoch 27/100\n",
      "18/18 [==============================] - 31s 2s/step - loss: 0.5550 - accuracy: 0.8715\n",
      "Epoch 28/100\n",
      "18/18 [==============================] - 31s 2s/step - loss: 0.5692 - accuracy: 0.8559\n",
      "Epoch 29/100\n",
      "18/18 [==============================] - 32s 2s/step - loss: 0.5667 - accuracy: 0.8550\n",
      "Epoch 30/100\n",
      "18/18 [==============================] - 32s 2s/step - loss: 0.4936 - accuracy: 0.8715\n",
      "Epoch 31/100\n",
      "18/18 [==============================] - 32s 2s/step - loss: 0.5113 - accuracy: 0.8646\n",
      "Epoch 32/100\n",
      "18/18 [==============================] - 32s 2s/step - loss: 0.5354 - accuracy: 0.8628\n",
      "Epoch 33/100\n",
      "18/18 [==============================] - 32s 2s/step - loss: 0.5268 - accuracy: 0.8759\n",
      "Epoch 34/100\n",
      "18/18 [==============================] - 31s 2s/step - loss: 0.4638 - accuracy: 0.8837\n",
      "Epoch 35/100\n",
      "18/18 [==============================] - 32s 2s/step - loss: 0.4899 - accuracy: 0.8628\n",
      "Epoch 36/100\n",
      "18/18 [==============================] - 31s 2s/step - loss: 0.5109 - accuracy: 0.8576\n",
      "Epoch 37/100\n",
      "18/18 [==============================] - 31s 2s/step - loss: 0.4945 - accuracy: 0.8715\n",
      "Epoch 38/100\n",
      "18/18 [==============================] - 32s 2s/step - loss: 0.4401 - accuracy: 0.8845\n",
      "Epoch 39/100\n",
      "18/18 [==============================] - 32s 2s/step - loss: 0.5041 - accuracy: 0.8698\n",
      "Epoch 40/100\n",
      "18/18 [==============================] - 31s 2s/step - loss: 0.4490 - accuracy: 0.8776\n",
      "Epoch 41/100\n",
      "18/18 [==============================] - 31s 2s/step - loss: 0.4129 - accuracy: 0.8898\n",
      "Epoch 42/100\n",
      "18/18 [==============================] - 31s 2s/step - loss: 0.4664 - accuracy: 0.8828\n",
      "Epoch 43/100\n",
      "18/18 [==============================] - 31s 2s/step - loss: 0.4748 - accuracy: 0.8776\n",
      "Epoch 44/100\n",
      "18/18 [==============================] - 31s 2s/step - loss: 0.4882 - accuracy: 0.8715\n",
      "Epoch 45/100\n",
      "18/18 [==============================] - 31s 2s/step - loss: 0.4912 - accuracy: 0.8594\n",
      "Epoch 46/100\n",
      "18/18 [==============================] - 31s 2s/step - loss: 0.4274 - accuracy: 0.8759\n",
      "Epoch 47/100\n",
      "18/18 [==============================] - 30s 2s/step - loss: 0.4720 - accuracy: 0.8785\n",
      "Epoch 48/100\n",
      "18/18 [==============================] - 30s 2s/step - loss: 0.4238 - accuracy: 0.8976\n",
      "Epoch 49/100\n",
      "18/18 [==============================] - 30s 2s/step - loss: 0.4060 - accuracy: 0.8958\n",
      "Epoch 50/100\n",
      "18/18 [==============================] - 31s 2s/step - loss: 0.4245 - accuracy: 0.8802\n",
      "Epoch 51/100\n",
      "18/18 [==============================] - 31s 2s/step - loss: 0.4104 - accuracy: 0.8924\n",
      "Epoch 52/100\n",
      "18/18 [==============================] - 30s 2s/step - loss: 0.3815 - accuracy: 0.9080\n",
      "Epoch 53/100\n",
      "18/18 [==============================] - 30s 2s/step - loss: 0.3863 - accuracy: 0.8950\n",
      "Epoch 54/100\n",
      "18/18 [==============================] - 30s 2s/step - loss: 0.3834 - accuracy: 0.8993\n",
      "Epoch 55/100\n",
      "18/18 [==============================] - 30s 2s/step - loss: 0.4047 - accuracy: 0.8872\n",
      "Epoch 56/100\n",
      "18/18 [==============================] - 29s 2s/step - loss: 0.4052 - accuracy: 0.8898\n",
      "Epoch 57/100\n",
      "18/18 [==============================] - 30s 2s/step - loss: 0.3711 - accuracy: 0.8984\n",
      "Epoch 58/100\n",
      "18/18 [==============================] - 30s 2s/step - loss: 0.3391 - accuracy: 0.8993\n",
      "Epoch 59/100\n",
      "18/18 [==============================] - 30s 2s/step - loss: 0.3471 - accuracy: 0.9045\n",
      "Epoch 60/100\n",
      "18/18 [==============================] - 30s 2s/step - loss: 0.3444 - accuracy: 0.9089\n",
      "Epoch 61/100\n",
      "18/18 [==============================] - 30s 2s/step - loss: 0.4299 - accuracy: 0.8915\n",
      "Epoch 62/100\n",
      "18/18 [==============================] - 30s 2s/step - loss: 0.3276 - accuracy: 0.9106\n",
      "Epoch 63/100\n",
      "18/18 [==============================] - 83s 4s/step - loss: 0.3926 - accuracy: 0.8863\n",
      "Epoch 64/100\n",
      "18/18 [==============================] - 65s 4s/step - loss: 0.2832 - accuracy: 0.9156\n",
      "Epoch 65/100\n",
      "18/18 [==============================] - 65s 4s/step - loss: 0.4017 - accuracy: 0.8811\n",
      "Epoch 66/100\n",
      "18/18 [==============================] - 66s 4s/step - loss: 0.4180 - accuracy: 0.8924\n",
      "Epoch 67/100\n",
      "18/18 [==============================] - 68s 4s/step - loss: 0.3552 - accuracy: 0.8993\n",
      "Epoch 68/100\n",
      "18/18 [==============================] - 63s 3s/step - loss: 0.3401 - accuracy: 0.9054\n",
      "Epoch 69/100\n",
      "18/18 [==============================] - 64s 4s/step - loss: 0.3574 - accuracy: 0.9036\n",
      "Epoch 70/100\n",
      "18/18 [==============================] - 61s 3s/step - loss: 0.3497 - accuracy: 0.9045\n",
      "Epoch 71/100\n",
      "18/18 [==============================] - 61s 3s/step - loss: 0.3901 - accuracy: 0.8941\n",
      "Epoch 72/100\n",
      "18/18 [==============================] - 63s 3s/step - loss: 0.3584 - accuracy: 0.9106\n",
      "Epoch 73/100\n",
      "18/18 [==============================] - 60s 3s/step - loss: 0.3659 - accuracy: 0.9089\n",
      "Epoch 74/100\n",
      "18/18 [==============================] - 60s 3s/step - loss: 0.3244 - accuracy: 0.9141\n",
      "Epoch 75/100\n",
      "18/18 [==============================] - 58s 3s/step - loss: 0.3362 - accuracy: 0.9089\n",
      "Epoch 76/100\n",
      "18/18 [==============================] - 59s 3s/step - loss: 0.2940 - accuracy: 0.9158\n",
      "Epoch 77/100\n",
      "18/18 [==============================] - 60s 3s/step - loss: 0.3112 - accuracy: 0.9149\n",
      "Epoch 78/100\n",
      "18/18 [==============================] - 60s 3s/step - loss: 0.3287 - accuracy: 0.9071\n",
      "Epoch 79/100\n",
      "18/18 [==============================] - 58s 3s/step - loss: 0.3545 - accuracy: 0.8950\n",
      "Epoch 80/100\n",
      "18/18 [==============================] - 56s 3s/step - loss: 0.2999 - accuracy: 0.9236\n",
      "Epoch 81/100\n",
      "18/18 [==============================] - 58s 3s/step - loss: 0.2703 - accuracy: 0.9227\n",
      "Epoch 82/100\n",
      "18/18 [==============================] - 56s 3s/step - loss: 0.2977 - accuracy: 0.9123\n",
      "Epoch 83/100\n",
      "18/18 [==============================] - 53s 3s/step - loss: 0.3410 - accuracy: 0.9071\n",
      "Epoch 84/100\n",
      "18/18 [==============================] - 53s 3s/step - loss: 0.3713 - accuracy: 0.9010\n",
      "Epoch 85/100\n",
      "18/18 [==============================] - 54s 3s/step - loss: 0.2681 - accuracy: 0.9210\n",
      "Epoch 86/100\n",
      "18/18 [==============================] - 51s 3s/step - loss: 0.2949 - accuracy: 0.9149\n",
      "Epoch 87/100\n",
      "18/18 [==============================] - 53s 3s/step - loss: 0.3244 - accuracy: 0.9158\n",
      "Epoch 88/100\n",
      "18/18 [==============================] - 54s 3s/step - loss: 0.3429 - accuracy: 0.9054\n",
      "Epoch 89/100\n",
      "18/18 [==============================] - 50s 3s/step - loss: 0.3140 - accuracy: 0.9106\n",
      "Epoch 90/100\n",
      "18/18 [==============================] - 51s 3s/step - loss: 0.3155 - accuracy: 0.9175\n",
      "Epoch 91/100\n",
      "18/18 [==============================] - 52s 3s/step - loss: 0.3465 - accuracy: 0.9002\n",
      "Epoch 92/100\n",
      "18/18 [==============================] - 49s 3s/step - loss: 0.3032 - accuracy: 0.9149\n",
      "Epoch 93/100\n",
      "18/18 [==============================] - 49s 3s/step - loss: 0.3066 - accuracy: 0.9115\n",
      "Epoch 94/100\n",
      "18/18 [==============================] - 50s 3s/step - loss: 0.3379 - accuracy: 0.9062\n",
      "Epoch 95/100\n",
      "18/18 [==============================] - 46s 2s/step - loss: 0.3074 - accuracy: 0.9089\n",
      "Epoch 96/100\n",
      "18/18 [==============================] - 45s 2s/step - loss: 0.2611 - accuracy: 0.9306\n",
      "Epoch 97/100\n",
      "18/18 [==============================] - 47s 3s/step - loss: 0.3031 - accuracy: 0.9175\n",
      "Epoch 98/100\n",
      "18/18 [==============================] - 49s 3s/step - loss: 0.2570 - accuracy: 0.9314\n",
      "Epoch 99/100\n",
      "18/18 [==============================] - 46s 3s/step - loss: 0.2987 - accuracy: 0.9132\n",
      "Epoch 100/100\n",
      "18/18 [==============================] - 46s 3s/step - loss: 0.2520 - accuracy: 0.9271\n"
     ]
    }
   ],
   "source": [
    "history = model.fit_generator(train_gen,\n",
    "                    steps_per_epoch = len(train_gen) // 64,\n",
    "#                     validation_data=val_gen,\n",
    "#                     validation_steps=len(val_gen) // 32,\n",
    "                    epochs=100,\n",
    "                    verbose=1)"
   ]
  },
  {
   "cell_type": "code",
   "execution_count": 32,
   "id": "d33ce4cb",
   "metadata": {
    "execution": {
     "iopub.execute_input": "2022-10-01T17:38:39.885443Z",
     "iopub.status.busy": "2022-10-01T17:38:39.885107Z",
     "iopub.status.idle": "2022-10-01T17:56:05.336574Z",
     "shell.execute_reply": "2022-10-01T17:56:05.335405Z"
    },
    "papermill": {
     "duration": 1045.564417,
     "end_time": "2022-10-01T17:56:05.339311",
     "exception": false,
     "start_time": "2022-10-01T17:38:39.774894",
     "status": "completed"
    },
    "tags": []
   },
   "outputs": [
    {
     "name": "stdout",
     "output_type": "stream",
     "text": [
      "395/395 [==============================] - 1042s 3s/step - loss: 0.3469 - accuracy: 0.9021\n",
      "[0.34686845541000366, 0.9020593762397766]\n"
     ]
    }
   ],
   "source": [
    "results = model.evaluate(test_gen, batch_size=64)\n",
    "print(results)"
   ]
  }
 ],
 "metadata": {
  "kernelspec": {
   "display_name": "Python 3",
   "language": "python",
   "name": "python3"
  },
  "language_info": {
   "codemirror_mode": {
    "name": "ipython",
    "version": 3
   },
   "file_extension": ".py",
   "mimetype": "text/x-python",
   "name": "python",
   "nbconvert_exporter": "python",
   "pygments_lexer": "ipython3",
   "version": "3.7.12"
  },
  "papermill": {
   "default_parameters": {},
   "duration": 6153.185906,
   "end_time": "2022-10-01T17:56:08.829432",
   "environment_variables": {},
   "exception": null,
   "input_path": "__notebook__.ipynb",
   "output_path": "__notebook__.ipynb",
   "parameters": {},
   "start_time": "2022-10-01T16:13:35.643526",
   "version": "2.3.4"
  }
 },
 "nbformat": 4,
 "nbformat_minor": 5
}
